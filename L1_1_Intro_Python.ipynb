{
 "cells": [
  {
   "cell_type": "markdown",
   "metadata": {},
   "source": [
    "# Introduction to Python\n",
    "\n",
    "\n",
    "## General information\n",
    "\n",
    "### Sources\n",
    "\n",
    "This lesson is inspired by the [Programming in Python lessons](http://swcarpentry.github.io/python-novice-inflammation/) from the [Software Carpentry organization](http://software-carpentry.org) and has adapted or reused material from University of Helsinki Geo-python course (https://geo-python-site.readthedocs.io/en/latest/course-info/licensing.html ) under a Creative Commons Attribution-ShareAlike 4.0 International licence (https://creativecommons.org/licenses/by-sa/4.0/deed.en). \n",
    "\n",
    "### About this document\n",
    "\n",
    "This is a [Jupyter Notebook](https://jupyter.org/). This particular notebook is designed to introduce you to a few of the basic concepts of programming in Python. The contents of this document are divided into cells, which can contain Markdown-formatted text, Python code, or raw text. You can execute a snippet of code in a cell by pressing <kbd>Shift</kbd> + <kbd>Enter</kbd>. Try this out with the examples below.\n",
    "\n"
   ]
  },
  {
   "cell_type": "markdown",
   "metadata": {},
   "source": [
    "\n",
    "### Python - your own scientific calculator\n",
    "\n",
    "\n",
    "\n",
    "With Python, you can perform arithmetic operations with ease. To run the code in the cells that follow, simply press <kbd>Shift</kbd> + <kbd>Enter</kbd> . Give it a try! "
   ]
  },
  {
   "cell_type": "code",
   "execution_count": null,
   "metadata": {
    "collapsed": false,
    "jupyter": {
     "outputs_hidden": false
    }
   },
   "outputs": [],
   "source": [
    "15 + 5"
   ]
  },
  {
   "cell_type": "code",
   "execution_count": null,
   "metadata": {
    "collapsed": false,
    "jupyter": {
     "outputs_hidden": false
    }
   },
   "outputs": [],
   "source": [
    "8 * 9"
   ]
  },
  {
   "cell_type": "markdown",
   "metadata": {},
   "source": [
    "Should you wish to modify and re-execute any code, just alter the content in the cell and hit <kbd>Shift</kbd> + <kbd>Enter</kbd> to run the updated code."
   ]
  },
  {
   "cell_type": "markdown",
   "metadata": {},
   "source": [
    "We can also compute other function such as division and exponentiation. Let's divide \"5\" with \"15\" and compute \"2\" in the power of \"10\"."
   ]
  },
  {
   "cell_type": "code",
   "execution_count": null,
   "metadata": {},
   "outputs": [],
   "source": [
    "5/15"
   ]
  },
  {
   "cell_type": "code",
   "execution_count": null,
   "metadata": {},
   "outputs": [],
   "source": [
    "2**10"
   ]
  },
  {
   "cell_type": "markdown",
   "metadata": {},
   "source": [
    "Similar to traditional algebra, the use of brackets is crucial to the correctness of computations. Check the following examples."
   ]
  },
  {
   "cell_type": "code",
   "execution_count": null,
   "metadata": {},
   "outputs": [],
   "source": [
    "(5/5)*8+1"
   ]
  },
  {
   "cell_type": "code",
   "execution_count": null,
   "metadata": {},
   "outputs": [],
   "source": [
    "5/(5*(8+1))"
   ]
  },
  {
   "cell_type": "code",
   "execution_count": null,
   "metadata": {},
   "outputs": [],
   "source": [
    "5/(5*8)+1"
   ]
  },
  {
   "cell_type": "markdown",
   "metadata": {},
   "source": [
    "The outcome is different according to the use of brackets, so always keep this in mind!"
   ]
  },
  {
   "cell_type": "markdown",
   "metadata": {},
   "source": [
    "### Working with Functions\n",
    "\n",
    "Python enables more intricate mathematical operations through the use of functions. Think of functions as pre-packaged code snippets crafted to execute a specific task, like displaying content on your screen (take the  `print()` function as an example). Python boasts a vast library of functions, designed for a spectrum of tasks ranging from the most elementary to the highly sophisticated.\n",
    "\n",
    "It's worth noting that Python has both built-in and external functions. The built-in ones are foundational and come pre-loaded with Python. While they handle primary tasks efficiently, for intricate calculations, we often lean on specialized external libraries.\n",
    "\n",
    "To see this in action, try typing `cos(1)` or `sqrt(16)` in the cells below."
   ]
  },
  {
   "cell_type": "code",
   "execution_count": null,
   "metadata": {
    "collapsed": false,
    "jupyter": {
     "outputs_hidden": false
    },
    "tags": [
     "raises-exception"
    ]
   },
   "outputs": [],
   "source": [
    "cos(1)"
   ]
  },
  {
   "cell_type": "code",
   "execution_count": null,
   "metadata": {
    "collapsed": false,
    "jupyter": {
     "outputs_hidden": false
    },
    "tags": [
     "raises-exception"
    ]
   },
   "outputs": [],
   "source": [
    "sqrt(16)"
   ]
  },
  {
   "cell_type": "markdown",
   "metadata": {},
   "source": [
    "Surprisingly, Python doesn't instantly handle square root calculations or basic trigonometric functions out of the box. However, it's equipped to do so, we just need to \"call upon\" the appropriate functions."
   ]
  },
  {
   "cell_type": "markdown",
   "metadata": {},
   "source": [
    "### Math operations\n",
    "\n",
    "### Functions and modules\n",
    "\n",
    "Python is not just a general-purpose programming language; it's a versatile tool that can handle intricate mathematical tasks when equipped with the right function. A function in Python is like a dedicated mini-program, designed to execute a particular task. For instance, the `print()` function is used to display content.\n",
    "\n",
    "The default version of Python has very limited active functions. Default Python can only perform \"Addition, Subtraction, Multiplication, Division and Exponentiation\" \n",
    "\n",
    "+: The addition operator.  Use this to sum two numbers.\n",
    "\n",
    "-: The minus operator.  Ideal for finding the difference between numbers.\n",
    "\n",
    "*: The multiplication operator.  Multiplies numbers together.\n",
    "\n",
    "/: The division operator.  Helps in finding the quotient.\n",
    "\n",
    "**: The exponentiation operator. You can raise numbers to a power with this operator.\\\n",
    "\n",
    "However, the built-in version of Python only scratches the surface of its mathematical prowess. For specialized mathematical operations beyond the basics, Python relies on `modules` - also known as `libraries`. One such module tailored for mathematical functions is the *math* module. To harness its power, simply type `import math`."
   ]
  },
  {
   "cell_type": "code",
   "execution_count": null,
   "metadata": {},
   "outputs": [],
   "source": [
    "import math"
   ]
  },
  {
   "cell_type": "markdown",
   "metadata": {},
   "source": [
    "\n",
    "### Tapping into the \"math\" Library\n",
    "\n",
    "Having imported the *math* library, its vast array of mathematical functions is now at our disposal. To access these functions, all you need to do is type the library's name followed by a dot \".\". \n",
    "\n",
    "For instance, to compute the cosine of 1, you'd type: `math.cos(1)`.\n",
    "\n",
    "Why not explore further? Use the *math* library to compute the sine value and square root from our previous examples. Dive in and experiment!"
   ]
  },
  {
   "cell_type": "code",
   "execution_count": null,
   "metadata": {
    "collapsed": false,
    "jupyter": {
     "outputs_hidden": false
    }
   },
   "outputs": [],
   "source": [
    "math.cos(1)"
   ]
  },
  {
   "cell_type": "code",
   "execution_count": null,
   "metadata": {
    "collapsed": false,
    "jupyter": {
     "outputs_hidden": false
    }
   },
   "outputs": [],
   "source": [
    "math.sqrt(16)"
   ]
  },
  {
   "cell_type": "markdown",
   "metadata": {},
   "source": [
    "### Libraries in Python: A Quick Recap\n",
    "\n",
    "1. A *library* is essentially a collection of related code entities, predominantly functions, bundled together for specific purposes.\n",
    "   \n",
    "2. To make use of a library, we first need to bring it into our code environment. This is done using the `import` command followed by the library's name, e.g., `import math`.\n",
    "   \n",
    "3. When accessing functions within a library, it's crucial to prefix the function with the library's name. For instance, to use the `cos()` function from the `math` library, we write `math.cos()`.\n",
    "   \n",
    "4. In the context of a Jupyter Notebook, variables defined and cells executed earlier remain active. This means you can reference those variables in subsequent cells.\n",
    "   \n",
    "5. Libraries, apart from functions, can also house constants. The `math` library, for instance, has a constant for the mathematical value of pi. Curious about its value? Just type `math.pi` in the cell below."
   ]
  },
  {
   "cell_type": "code",
   "execution_count": null,
   "metadata": {
    "collapsed": false,
    "jupyter": {
     "outputs_hidden": false
    }
   },
   "outputs": [],
   "source": [
    "math.pi"
   ]
  },
  {
   "cell_type": "markdown",
   "metadata": {},
   "source": [
    "#### Question?\n",
    "In the empty Python cell provided, try calculating the sine of pi.\n",
    "\n",
    "Question: What result do you anticipate for this computation?\n",
    "\n",
    "After you've made your calculation, compare: did the result align with your expectations?"
   ]
  },
  {
   "cell_type": "code",
   "execution_count": null,
   "metadata": {
    "collapsed": false,
    "jupyter": {
     "outputs_hidden": false
    },
    "tags": [
     "hide-cell"
    ]
   },
   "outputs": [],
   "source": []
  },
  {
   "cell_type": "markdown",
   "metadata": {},
   "source": [
    "### Merging the Powers of Functions\n",
    "\n",
    "One of the beauties of functions is their ability to be intertwined, allowing us to execute more complex operations with ease. The `print()` function, for instance, outputs whatever is placed inside its parentheses onto the display.\n",
    "\n",
    "**Challenge:** In the space below, attempt to display the value of the square root of 16 using the `print()` function. \n"
   ]
  },
  {
   "cell_type": "code",
   "execution_count": null,
   "metadata": {
    "collapsed": false,
    "jupyter": {
     "outputs_hidden": false
    }
   },
   "outputs": [],
   "source": []
  },
  {
   "cell_type": "markdown",
   "metadata": {},
   "source": [
    "\n",
    "\n",
    "### Melding Text and Calculations with `print()`\n",
    "\n",
    "The `print()` function isn't just for outputting raw values; it's also a brilliant tool for blending text with dynamically computed values. By simply separating items with commas within its parentheses, we can mix and match static text with calculated results.\n",
    "\n",
    "**Challenge:** In the provided cell space, harness the power of `print()` in tandem with `math.sqrt()` to generate an output that states: 'The square root of 4 is 2.0'. \n"
   ]
  },
  {
   "cell_type": "code",
   "execution_count": null,
   "metadata": {
    "collapsed": false,
    "jupyter": {
     "outputs_hidden": false
    }
   },
   "outputs": [],
   "source": []
  },
  {
   "cell_type": "markdown",
   "metadata": {},
   "source": [
    "---\n",
    "\n",
    "### Storing Values with Variables\n",
    "\n",
    "Think of a `variable` as a named container that holds a specific value or data. Often, we use variables to retain the results of calculations, making it easier to reference or manipulate them later on. The process to assign a value to a variable is straightforward: `variable_name = value`.\n",
    "\n",
    "**Exercise:** In the next cell, assign a weight value (in kilograms) to a variable. Once done, use the `print()` function to display the stored value.\n"
   ]
  },
  {
   "cell_type": "code",
   "execution_count": null,
   "metadata": {
    "collapsed": false,
    "jupyter": {
     "outputs_hidden": false
    }
   },
   "outputs": [],
   "source": [
    "weight_kg = 30.0\n",
    "print(weight_kg)"
   ]
  },
  {
   "cell_type": "markdown",
   "metadata": {},
   "source": [
    "\n",
    "\n",
    "### Displaying and Transforming Variable Values\n",
    "\n",
    "Variables are not just static containers; they can be dynamically manipulated and combined with other operations when being presented. As with direct values, you can use mathematical operations with variables.\n",
    "\n",
    "**Task:** In the upcoming cell, use the `print()` function to convert the `weight_kg` value to pounds. You can achieve this by multiplying `weight_kg` with the conversion factor \\(2.20462262\\). Aim to output a statement like: 'Weight in pounds: 50.0'. Remember, you'll need to adjust the calculation to match the stored value of `weight_kg`.\n",
    "\n"
   ]
  },
  {
   "cell_type": "code",
   "execution_count": null,
   "metadata": {
    "collapsed": false,
    "jupyter": {
     "outputs_hidden": false
    }
   },
   "outputs": [],
   "source": [
    "print(\"Weight in pounds:\", weight_kg * 2.20462262)"
   ]
  },
  {
   "cell_type": "markdown",
   "metadata": {},
   "source": [
    "\n",
    "#### Another example with print\n",
    "\n",
    "We can use print() in other ways as well, for instance, combining two or more variables. Take a look at the example below."
   ]
  },
  {
   "cell_type": "code",
   "execution_count": null,
   "metadata": {
    "tags": [
     "hide-cell"
    ]
   },
   "outputs": [],
   "source": [
    "# Here's a solution\n",
    "P1 = \"I like\"\n",
    "P2 = \"programming\"\n",
    "P3 = \"in Python!\"\n",
    "print(P1,P2,P3)"
   ]
  },
  {
   "cell_type": "markdown",
   "metadata": {},
   "source": [
    "\n",
    "\n",
    "### Modifying Variable Values\n",
    "\n",
    "Variables are flexible storage units. Just as you can assign a value to them, you can also modify that value whenever necessary.\n",
    "\n",
    "**Activity:** In the next cell, update the value of `weight_kg` to be 90. Once updated, use the `print()` function to display the new value.\n",
    "\n"
   ]
  },
  {
   "cell_type": "code",
   "execution_count": null,
   "metadata": {},
   "outputs": [],
   "source": [
    "weight_kg = 90.0"
   ]
  },
  {
   "cell_type": "code",
   "execution_count": null,
   "metadata": {
    "collapsed": false,
    "jupyter": {
     "outputs_hidden": false
    }
   },
   "outputs": [],
   "source": [
    "print(\"Weight in kg is now:\", weight_kg)"
   ]
  },
  {
   "cell_type": "markdown",
   "metadata": {},
   "source": [
    "Be cautious! Accessing a variable that hasn't been defined or initialized in your code will lead to a `NameError`. For instance, if you attempt to display the value of `weight_kg` using the `print()` function before actually defining it, Python won't know what `weight_kg` is and will throw an error.\n",
    "\n",
    "Go ahead and try printing the value of `weight_kg` in the next cell to see this in action.\n"
   ]
  },
  {
   "cell_type": "code",
   "execution_count": null,
   "metadata": {
    "collapsed": false,
    "jupyter": {
     "outputs_hidden": false
    },
    "tags": [
     "raises-exception"
    ]
   },
   "outputs": [],
   "source": [
    "print(\"Weight in kg :\", (weight_pounds / 2.20462262))"
   ]
  },
  {
   "cell_type": "markdown",
   "metadata": {},
   "source": [
    "Isn't it fascinating how Jupyter Notebooks operate? Here's a little quirk: if you define a previously undefined variable in a later cell and then execute that cell, you can revisit earlier cells that referenced the now-defined variable, and they'll run without a hitch! Confusing, right? Let's break it down with an experiment.\n",
    "\n",
    "In the cell below, go ahead and define a variable named `weight_pounds`. Set its value based on a not-yet-defined variable, `weight_kg`, multiplied by the conversion factor \\(2.2046226\\) for pounds to kilograms. Now, circle back to the cell right above this note and execute it. Notice something? The pesky `NameError` is gone! That's because `weight_pounds` is now recognized.\n",
    "\n",
    "A quick tip: The number adjacent to the cell, like `In [2]`, reveals the sequence in which cells have been executed. It's a handy way to track your cell execution order.\n"
   ]
  },
  {
   "cell_type": "code",
   "execution_count": null,
   "metadata": {},
   "outputs": [],
   "source": [
    "weight_pounds = weight_kg * 2.20462262"
   ]
  },
  {
   "cell_type": "markdown",
   "metadata": {},
   "source": [
    "Just to check their current values, print out the values of ``weight_kg`` and ``weight_pounds`` in the cell below."
   ]
  },
  {
   "cell_type": "code",
   "execution_count": null,
   "metadata": {
    "collapsed": false,
    "jupyter": {
     "outputs_hidden": false
    }
   },
   "outputs": [],
   "source": [
    "print(\"weight in kilograms:\", weight_kg, \"and in pounds:\", weight_pounds)"
   ]
  },
  {
   "cell_type": "markdown",
   "metadata": {},
   "source": [
    "### Variable values\n",
    "\n",
    "Changing the value of a variable does not affect other variable values. Let's redefine ``weight_kg`` to be equal to 10.0, and print out the values of ``weight_kg`` and ``weight_pounds``."
   ]
  },
  {
   "cell_type": "code",
   "execution_count": null,
   "metadata": {
    "collapsed": false,
    "jupyter": {
     "outputs_hidden": false
    }
   },
   "outputs": [],
   "source": [
    "weight_kg = 10.0\n",
    "print(\n",
    "    \"weight in kg is now:\",\n",
    "    weight_kg,\n",
    "    \"and weight in pounds is still:\",\n",
    "    weight_pounds,\n",
    ")"
   ]
  },
  {
   "cell_type": "markdown",
   "metadata": {},
   "source": [
    "### Understanding Data Types in Python\n",
    "\n",
    "At the heart of Python lies a classification system for data, aptly named \"data types.\" Each data type determines the nature and operations applicable to the data it classifies.\n",
    "\n",
    "Here are the four fundamental data types in Python:\n",
    "\n",
    "| Data Type Name | Description           | Example    |\n",
    "| -------------- | --------------------- | ---------- |\n",
    "| `int`          | Represents whole numbers or integers | `4`      |\n",
    "| `float`        | Captures decimal or floating-point numbers | `3.1415` |\n",
    "| `str`          | Denotes sequences of characters, commonly known as strings | `'Hot'`  |\n",
    "| `bool`         | Holds Boolean values which can be either `True` or `False` | `True`   |\n",
    "\n",
    "To uncover the data type of a variable or a value, Python provides the `type()` function.\n",
    "\n",
    "However, be vigilant! Different data types come with different behaviors, and not all of them play well together.\n"
   ]
  },
  {
   "cell_type": "code",
   "execution_count": null,
   "metadata": {
    "collapsed": false,
    "jupyter": {
     "outputs_hidden": false
    }
   },
   "outputs": [],
   "source": [
    "RainForecast = \"Heavy rain\"\n",
    "type(RainForecast)"
   ]
  },
  {
   "cell_type": "markdown",
   "metadata": {},
   "source": [
    "Let's also check the type of ``weight_kg``. What happens if you try to combine ``weight_kg`` and ``RainForecast`` in a single math equation such as ``weight_kg = weight_kg + 5.0 * weatherForecast``?"
   ]
  },
  {
   "cell_type": "code",
   "execution_count": null,
   "metadata": {
    "collapsed": false,
    "jupyter": {
     "outputs_hidden": false
    },
    "tags": [
     "raises-exception"
    ]
   },
   "outputs": [],
   "source": [
    "type(weight_kg)\n",
    "weight_kg = weight_kg + 5.0 * RainForecast"
   ]
  },
  {
   "cell_type": "code",
   "execution_count": null,
   "metadata": {},
   "outputs": [],
   "source": [
    "type(weight_kg)"
   ]
  },
  {
   "cell_type": "markdown",
   "metadata": {},
   "source": [
    "\n",
    "\n",
    "Python is strict about the operations it allows between differing data types. When we attempt an operation between incompatible data types, Python raises a `TypeError`. \n",
    "\n",
    "For instance, trying to multiply a number with a character string doesn't make logical sense. Python doesn't know how to handle such an operation and will signal this confusion with a `TypeError`.\n",
    "\n",
    "Let's see this in action.\n"
   ]
  },
  {
   "cell_type": "markdown",
   "metadata": {},
   "source": [
    "#### Challenge\n",
    "\n",
    "As it turns out, you can do some math with character strings in Python. Define two variables and assign them character string values in the Python cell below. What happens if you try to add two character strings together? Can you subtract them? Which other math operations work for character strings?"
   ]
  },
  {
   "cell_type": "code",
   "execution_count": null,
   "metadata": {
    "tags": [
     "hide-cell"
    ]
   },
   "outputs": [],
   "source": [
    "# Here is an example solution\n",
    "\n",
    "first_variable = \"I like\"\n",
    "second_variable = \"icecream!\"\n",
    "\n",
    "print(first_variable + second_variable)\n",
    "print(5 * second_variable)\n",
    "print(first_variable - second_variable)"
   ]
  },
  {
   "cell_type": "markdown",
   "metadata": {},
   "source": [
    "### Character input \n",
    "\n",
    "Python and Jupyter notebooks also let us interact in another way with our code! The built-in [input()](https://docs.python.org/3.6/library/functions.html?highlight=input#input) function reads a line from input and returns it as a string.\n",
    "\n",
    "Let's try it out. To start, we can define a varaible ``place`` and assign its value using the ``input()`` function to prompt the user for the location where they are from (e.g., ``input('Where are you from? ')``). When the cell is run, the user (you) can type in their response. Once ``place`` is defined, we can say something good about where the user is from (e.g., ``print(place, 'is a nice place!')``)."
   ]
  },
  {
   "cell_type": "markdown",
   "metadata": {},
   "source": [
    "```{warning}\n",
    "Jupyter Notebooks might sometimes get stuck when using the `input()` function. If this happens, restart the kernel and run the cell again (**Kernel** -> **Restart Kernel...**).\n",
    "\n",
    "```"
   ]
  },
  {
   "cell_type": "code",
   "execution_count": null,
   "metadata": {
    "collapsed": false,
    "jupyter": {
     "outputs_hidden": false
    },
    "tags": [
     "raises-exception"
    ]
   },
   "outputs": [],
   "source": [
    "capital = input(\"What is the capital of Sweden? \")\n",
    "print(capital, \"is the capital of Sweden!\")"
   ]
  },
  {
   "cell_type": "markdown",
   "metadata": {},
   "source": [
    "Let's try another example in the cell below using the similar approach. Ask the user for a weight in kiograms using the ``input()`` function and print the input value to the screen."
   ]
  },
  {
   "cell_type": "code",
   "execution_count": null,
   "metadata": {
    "collapsed": false,
    "jupyter": {
     "outputs_hidden": false
    },
    "tags": [
     "raises-exception"
    ]
   },
   "outputs": [],
   "source": [
    "weight_kg = input(\"How much does an adult Rhinoceros typically weights?\")\n",
    "print(\"about\", weight_kg, \"kilograms\")"
   ]
  },
  {
   "cell_type": "markdown",
   "metadata": {},
   "source": [
    "What is the data type of variable `capital`? "
   ]
  },
  {
   "cell_type": "code",
   "execution_count": null,
   "metadata": {
    "tags": [
     "raises-exception"
    ]
   },
   "outputs": [],
   "source": [
    "print(type(capital))\n",
    "print(type(weight_kg))"
   ]
  },
  {
   "cell_type": "markdown",
   "metadata": {},
   "source": [
    "What happens when you try to convert your weight in kg  to pounds using the equation from earlier in the lesson?"
   ]
  },
  {
   "cell_type": "code",
   "execution_count": null,
   "metadata": {
    "tags": [
     "raises-exception"
    ]
   },
   "outputs": [],
   "source": [
    "weight_pounds = weight_kg * 2.20462262"
   ]
  },
  {
   "cell_type": "code",
   "execution_count": null,
   "metadata": {},
   "outputs": [],
   "source": []
  }
 ],
 "metadata": {
  "anaconda-cloud": {},
  "kernelspec": {
   "display_name": "Python 3 (ipykernel)",
   "language": "python",
   "name": "python3"
  },
  "language_info": {
   "codemirror_mode": {
    "name": "ipython",
    "version": 3
   },
   "file_extension": ".py",
   "mimetype": "text/x-python",
   "name": "python",
   "nbconvert_exporter": "python",
   "pygments_lexer": "ipython3",
   "version": "3.11.9"
  }
 },
 "nbformat": 4,
 "nbformat_minor": 4
}
