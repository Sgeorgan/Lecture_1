{
 "cells": [
  {
   "cell_type": "markdown",
   "metadata": {
    "tags": [
     "raises-exception"
    ]
   },
   "source": [
    "\n",
    "\n",
    " \n",
    "\n",
    "## Naming variables\n",
    "\n"
   ]
  },
  {
   "cell_type": "code",
   "execution_count": 1,
   "metadata": {},
   "outputs": [],
   "source": [
    "s = \"101533\""
   ]
  },
  {
   "cell_type": "markdown",
   "metadata": {},
   "source": [
    "or"
   ]
  },
  {
   "cell_type": "code",
   "execution_count": 2,
   "metadata": {},
   "outputs": [],
   "source": [
    "sid = \"101533\""
   ]
  },
  {
   "cell_type": "markdown",
   "metadata": {},
   "source": [
    "\n",
    "\n",
    "Can you discern the purpose of these variables at a glance?  Short and ambiguous variable names like `s` and ``sid``can be cryptic. Understanding them might be easy now, but imagine revisiting this code after months or sharing it with colleagues. Descriptive names are crucial for clear, maintainable code.\n",
    "\n",
    "Let's delve into another illustrative example."
   ]
  },
  {
   "cell_type": "code",
   "execution_count": 1,
   "metadata": {},
   "outputs": [],
   "source": [
    "swedishinstituteofagricultureobservationientificationnumber = \"101533\""
   ]
  },
  {
   "cell_type": "markdown",
   "metadata": {},
   "source": [
    "OK, so now we have another issue. The variable name ``swedishinstituteofagricultureobservationientificationnumber`` seems to provide enough information but perhaps more than we would require. Moreso, it is so long that we would rather quit coding than type it more than a few times. "
   ]
  },
  {
   "cell_type": "markdown",
   "metadata": {},
   "source": [
    "## Selecting \"good\" variable names\n",
    "\n",
    "An ideal name for a variable should be clear, concice, easy to type and indicative. It should be in English (being the common programming language). It should not conflict with any [Python keywords](https://www.pythonforbeginners.com/basics/keywords-in-python), such as ``for``, ``True``, ``False``, ``and``, ``if``, or ``else``. These are reserved for speical operations in Python and cannot be used as variable names.\n"
   ]
  },
  {
   "cell_type": "markdown",
   "metadata": {},
   "source": [
    "\n",
    "\n",
    "### Strategy 1: snake_case_naming\n",
    "\n",
    "*snake_case_naming* uses lowercase words separated by underscores ``_``. As an example, consider the variable ``temp_celsius``. "
   ]
  },
  {
   "cell_type": "code",
   "execution_count": 1,
   "metadata": {},
   "outputs": [],
   "source": [
    "slu_station_id = \"123456\""
   ]
  },
  {
   "cell_type": "markdown",
   "metadata": {},
   "source": [
    "Here, our new variable name conveys all of the essential information we need, while remaining easy to read."
   ]
  },
  {
   "cell_type": "markdown",
   "metadata": {},
   "source": [
    "### Solution 2: camelCase naming\n",
    "\n",
    "*camelCase* or *CamelCase* uses capitalization of the first letter of words in a variable name to make it easier to read. When the first letter of the variable is capitalized, it is often referred to as PascalCase and is typically used for class names in object-oriented programming. "
   ]
  },
  {
   "cell_type": "code",
   "execution_count": 2,
   "metadata": {},
   "outputs": [],
   "source": [
    "sluStationID = \"123456\""
   ]
  },
  {
   "cell_type": "code",
   "execution_count": 3,
   "metadata": {},
   "outputs": [],
   "source": [
    "stationID = \"123456\""
   ]
  },
  {
   "cell_type": "markdown",
   "metadata": {},
   "source": [
    "### More tips for Naming Variables in Python\n",
    "\n",
    "1. **Avoid Single-letter Variables:** Except in familiar scenarios like `i` or `j` in loops, single-letter variable names can be ambiguous. Strive for more descriptive names.\n",
    "\n",
    "2. **Avoid Overuse of Abbreviations:** While abbreviations like `num` (for number) or `info` (for information) are generally accepted, excessive use can make the code less legible. `stud_info` might be acceptable, but `std_inf_prf` (if intended for `student_information_profile`) is less intuitive.\n",
    "\n",
    "3. **Steer Clear of Special Characters:** Although Python permits certain special characters in variable names, such as `_`, it's best to avoid others like `!`, `$`, `%`, etc. They can confuse and aren't conventional.\n",
    "\n",
    "\n",
    "5. **Avoid Python Reserved Words:** Steer clear of variable names that overlap with Python's reserved terms or in-built function names, e.g., `list`, `str`, `print`. This might trigger unexpected behaviors.\n",
    "\n",
    "6. **Adopt Plural Forms for Lists/Collections:** If a variable represents a list or a collection, using a plural, like `students` or `entries`, indicates it might contain several items.\n",
    "\n",
    "7. **Avoid Redundant Naming:** Sidestep tautologies or echoing the variable type in its name. For example, instead of `name_string`, simply use `name`.\n",
    "\n",
    "10. **Consistency is Key:** Whether you're navigating multiple projects or collaborating with a team, establish and adhere to a naming convention. Consistency streamlines readability and collaboration.\n"
   ]
  },
  {
   "cell_type": "code",
   "execution_count": null,
   "metadata": {},
   "outputs": [],
   "source": []
  }
 ],
 "metadata": {
  "kernelspec": {
   "display_name": "Python 3 (ipykernel)",
   "language": "python",
   "name": "python3"
  },
  "language_info": {
   "codemirror_mode": {
    "name": "ipython",
    "version": 3
   },
   "file_extension": ".py",
   "mimetype": "text/x-python",
   "name": "python",
   "nbconvert_exporter": "python",
   "pygments_lexer": "ipython3",
   "version": "3.11.4"
  }
 },
 "nbformat": 4,
 "nbformat_minor": 4
}
